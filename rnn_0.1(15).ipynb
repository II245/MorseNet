{
 "cells": [
  {
   "cell_type": "code",
   "execution_count": 1,
   "metadata": {},
   "outputs": [
    {
     "name": "stderr",
     "output_type": "stream",
     "text": [
      "Using TensorFlow backend.\n"
     ]
    }
   ],
   "source": [
    "import librosa\n",
    "import librosa.display\n",
    "import scipy.io.wavfile\n",
    "import sklearn\n",
    "import tensorflow as tf\n",
    "import numpy as np\n",
    "from config import SEQ_LENGTH, FRAMERATE, CHUNK, FFT_SIZE\n",
    "import matplotlib.pyplot as plt\n",
    "import generate_wav_samples as gen\n",
    "import os\n",
    "import keras\n",
    "import itertools\n",
    "from config import MORSE_CHR\n",
    "from tqdm import tqdm\n",
    "\n",
    "from keras import backend as K\n",
    "from keras import regularizers\n",
    "from keras.layers.convolutional import Conv2D, MaxPooling2D, Conv1D, MaxPooling1D\n",
    "from keras.layers import Input, Dense, Activation,TimeDistributed\n",
    "from keras.layers import Reshape, Lambda, Dropout, Bidirectional\n",
    "from keras.layers.merge import add, concatenate\n",
    "from keras.models import Model\n",
    "from keras.layers.recurrent import GRU, SimpleRNN,LSTM\n",
    "from keras.optimizers import SGD, Adam, RMSprop\n",
    "from keras.utils.data_utils import get_file\n",
    "from keras.preprocessing import image\n",
    "import keras.callbacks\n",
    "import pickle\n",
    "import Levenshtein\n",
    "import string\n",
    "import pandas as pd\n",
    "\n",
    "import generator_test as gt\n"
   ]
  },
  {
   "cell_type": "code",
   "execution_count": 2,
   "metadata": {},
   "outputs": [],
   "source": [
    "OUTPUT_DIR = 'rnn_output'"
   ]
  },
  {
   "cell_type": "code",
   "execution_count": 3,
   "metadata": {},
   "outputs": [],
   "source": [
    "class VizCallback(keras.callbacks.Callback):\n",
    "    def __init__(self, run_name, test_func, X):\n",
    "        self.test_func = test_func\n",
    "        self.output_dir = os.path.join(\n",
    "            OUTPUT_DIR, run_name)\n",
    "        self.X = X\n",
    "\n",
    "    def show_edit_distance(self, num):\n",
    "        print('edit distance: ', num)\n",
    "        \"\"\"\n",
    "        num_left = num\n",
    "        mean_norm_ed = 0.0\n",
    "        mean_ed = 0.0\n",
    "        while num_left > 0:\n",
    "            word_batch = next(self.text_img_gen)[0]\n",
    "            num_proc = min(word_batch['the_input'].shape[0], num_left)\n",
    "            decoded_res = decode_batch(self.test_func,\n",
    "                                       word_batch['the_input'][0:num_proc])\n",
    "            for j in range(num_proc):\n",
    "                edit_dist = editdistance.eval(decoded_res[j],\n",
    "                                              word_batch['source_str'][j])\n",
    "                mean_ed += float(edit_dist)\n",
    "                mean_norm_ed += float(edit_dist) / len(word_batch['source_str'][j])\n",
    "            num_left -= num_proc\n",
    "        mean_norm_ed = mean_norm_ed / num\n",
    "        mean_ed = mean_ed / num\n",
    "        print('\\nOut of %d samples:  Mean edit distance:'\n",
    "              '%.3f Mean normalized edit distance: %0.3f'\n",
    "              % (num, mean_ed, mean_norm_ed))\n",
    "        \"\"\"\n",
    "\n",
    "    def on_epoch_end(self, epoch, logs={}):\n",
    "        self.model.save_weights(os.path.join(self.output_dir, 'weights%02d.h5' % (epoch)))\n",
    "        \n",
    "        self.show_edit_distance(256)\n",
    "                \n",
    "        for i in range(5):\n",
    "            labels = self.X[1][i:i+1]\n",
    "            print('labels: ', labels_to_text([int(e) for e in labels[0]]))\n",
    "        \n",
    "        word_batch = self.X[0][:5]\n",
    "        res = decode_batch(self.test_func, word_batch)\n",
    "        print('result lens: ', len(res))\n",
    "        for e in res[:5]:\n",
    "            print(e)\n",
    "            \n",
    "        word_batch = self.X[0][:2000]\n",
    "        res = decode_batch(self.test_func, word_batch)\n",
    "        print()\n",
    "        \n",
    "        cers = []\n",
    "        for i, t in enumerate(self.X[1][:2000]):\n",
    "            true = labels_to_text(t)\n",
    "            pred = res[i]\n",
    "\n",
    "            c = cer(true, pred)\n",
    "\n",
    "            cers.append(c)\n",
    "\n",
    "        print(np.mean(cers))\n",
    "            \n",
    "def cer(true, pred):\n",
    "    t = ''.join(true).strip()\n",
    "    p = ''.join(pred).strip()\n",
    "    distance = Levenshtein.distance(t, p)\n",
    "    return distance / len(t) if len(t) > 0 else len(p)\n",
    "\n",
    "def ctc_lambda_func(args):\n",
    "    y_pred, labels, input_length, label_length = args\n",
    "    bc = K.ctc_batch_cost(labels, y_pred, input_length, label_length)\n",
    "    return bc\n",
    "\n",
    "'''\n",
    "def cer(true, pred):\n",
    "    t = ''.join(true).strip()\n",
    "    p = ''.join(pred).strip()\n",
    "    distance = Levenshtein.distance(t, p)\n",
    "    return distance / len(t)\n",
    "'''\n",
    "\n",
    "def labels_to_text(i):\n",
    "    return [MORSE_CHR[e] for e in i]\n",
    "\n",
    "def decode_batch2(test_func, word_batch):\n",
    "    out = test_func([word_batch])[0]\n",
    "    ret = []\n",
    "    print(np.argmax(out, axis = -1))\n",
    "    return np.argmax(out, axis = -1)\n",
    "\n",
    "\n",
    "def decode_batch(test_func, word_batch):\n",
    "    out = test_func([word_batch])[0]\n",
    "    r = np.argmax(out, axis=-1)\n",
    "    #print('r: ', r)\n",
    "    \n",
    "    res = []\n",
    "    for a in r:\n",
    "        sub_res = []\n",
    "        for i, e in enumerate(a):\n",
    "            #print(i, e)\n",
    "            if i == 0:\n",
    "                sub_res.append(e)\n",
    "                continue\n",
    "            if (e == a[i-1]):\n",
    "                continue\n",
    "            if (e == len(MORSE_CHR) - 1):\n",
    "                continue\n",
    "            sub_res.append(e)\n",
    "            \n",
    "        sub_res = [e for e in sub_res if e != len(MORSE_CHR) - 1]\n",
    "        sub_res = labels_to_text(sub_res)\n",
    "        res.append(sub_res)\n",
    "            \n",
    "    #[e if (i==0 or c != bc[i-1] and c!=3)]\n",
    "    #print('res: ', res)\n",
    "    return res\n",
    "\n"
   ]
  },
  {
   "cell_type": "code",
   "execution_count": 4,
   "metadata": {},
   "outputs": [],
   "source": [
    "sample_len = SEQ_LENGTH\n",
    "\n",
    "samples_count = 100000\n",
    "sr = 8000\n",
    "dict_len = len(MORSE_CHR)\n",
    "max_seq_len = 5\n",
    "mel_count = 1\n",
    "mel_len = 161"
   ]
  },
  {
   "cell_type": "code",
   "execution_count": 5,
   "metadata": {},
   "outputs": [],
   "source": [
    "dg = gen.DataGenerator()\n",
    "g = dg.seq_generator(SEQ_LENGTH, FRAMERATE, 1, sr, mel_count)"
   ]
  },
  {
   "cell_type": "code",
   "execution_count": 6,
   "metadata": {},
   "outputs": [],
   "source": [
    "def read_data(set_len, g):\n",
    "    l = np.zeros([set_len, max_seq_len], dtype=np.int32)\n",
    "    X = np.zeros([set_len,  mel_len, mel_count])\n",
    "    input_length = np.zeros([set_len, 1], dtype=np.int32)\n",
    "    label_length = np.zeros([set_len, 1], dtype=np.int32)\n",
    "\n",
    "    i = 0\n",
    "    for wave, label_indexes, labels, c, mel in tqdm(g):        \n",
    "        if len(labels) > max_seq_len:\n",
    "            continue\n",
    "        \n",
    "        X[i, :, :] = mel\n",
    "        \n",
    "        l[i, :len(labels)] = labels\n",
    "        input_length[i, :] = mel.shape[0]\n",
    "        \n",
    "        label_length[i, :1] = c\n",
    "        \n",
    "        i+=1\n",
    "        if i == set_len:\n",
    "            break\n",
    "        \n",
    "    return [X, l, input_length, label_length], l"
   ]
  },
  {
   "cell_type": "code",
   "execution_count": 7,
   "metadata": {},
   "outputs": [
    {
     "data": {
      "image/png": "[encoded data removed]",
      "text/plain": [
       "<Figure size 432x288 with 1 Axes>"
      ]
     },
     "metadata": {},
     "output_type": "display_data"
    }
   ],
   "source": [
    "import scipy\n",
    "from numpy.lib.stride_tricks import as_strided\n",
    "\n",
    "def rolling_window(a, window):\n",
    "    shape = a.shape[:-1] + (a.shape[-1] - window + 1, window)\n",
    "    strides = a.strides + (a.strides[-1],)\n",
    "    return np.lib.stride_tricks.as_strided(a, shape=shape, strides=strides)\n",
    "\n",
    "\n",
    "wave, sr = librosa.core.load('/home/user/Dropbox/projs/MorseNet/generated/0.wav', sr=8000)\n",
    "#wave, sr = librosa.core.load('/home/user/Downloads/websdr_recording_start_2019-06-15T21_33_35Z_7017.3kHz.wav', sr=8000)\n",
    "\n",
    "\n",
    "#wave = wave[:33000]\n",
    "#wave = wave.reshape(SEQ_LENGTH)\n",
    "wave = librosa.util.normalize(wave)\n",
    "mel = librosa.feature.melspectrogram(wave, sr=sr, n_fft=250, n_mels=1, hop_length=200, power=2)\n",
    "#mel = np.where(mel<0.1, 0, mel)\n",
    "\n",
    "#print(mel)\n",
    "def smooth(mel, w):\n",
    "    for i in range(mel.shape[0]):\n",
    "        print(mel.shape[1] // w)\n",
    "        steps = mel.shape[1] // w\n",
    "        for j in range(steps):\n",
    "            if (j+1)*w > mel.shape[1]:\n",
    "                continue\n",
    "\n",
    "            window = mel[i, j*w:(j+1)*w]\n",
    "            #print(window)\n",
    "\n",
    "            window = window / np.linalg.norm(window)\n",
    "            #print(window)\n",
    "            #print(np.linalg.norm(window))\n",
    "\n",
    "\n",
    "            #window = window / np.max(window)\n",
    "\n",
    "            #print(window)\n",
    "\n",
    "            #window = np.normalize(window)\n",
    "            mel[i, j*w:(j+1)*w] = window\n",
    "    return mel\n",
    "#mel = smooth(mel, 30)\n",
    "#mel = smooth(mel, 40)\n",
    "\n",
    "#mel = rolling_window(mel, 160).max(axis=1)\n",
    "#print(mel)\n",
    "\n",
    "#mel = scipy.ndimage.filters.maximum_filter1d(mel, 2)\n",
    "#mel = np.max(mel) \n",
    "#mel = np.where(mel<1, 0, mel)\n",
    "#mel = np.where(mel>1, 1, mel)\n",
    "#to_pred = np.zeros([1,  mel_len, mel_count])\n",
    "#to_pred[0,:,:] = mel\n",
    "\n",
    "#print(decode_batch(get_all_layer_outputs, to_pred))\n",
    "\n",
    "plt.figure()\n",
    "#fig, ax = plt.subplots(1, sharex=True, figsize=(50,100))\n",
    "#plt.subplot(figsize=(50,100))\n",
    "librosa.display.specshow(mel, sr=8000)\n",
    "plt.show()"
   ]
  },
  {
   "cell_type": "code",
   "execution_count": 8,
   "metadata": {},
   "outputs": [],
   "source": [
    "if False:\n",
    "    X, l = gt.read_data(samples_count, g)"
   ]
  },
  {
   "cell_type": "code",
   "execution_count": 9,
   "metadata": {},
   "outputs": [],
   "source": [
    "if False:\n",
    "    with open('dataset_100k_digits.pickle', 'wb') as f:\n",
    "        pickle.dump([X, l], f)"
   ]
  },
  {
   "cell_type": "code",
   "execution_count": 10,
   "metadata": {},
   "outputs": [],
   "source": [
    "if True:\n",
    "    with open('dataset_100k_digits.pickle', 'rb') as f:\n",
    "        X, l = pickle.load(f)"
   ]
  },
  {
   "cell_type": "code",
   "execution_count": 11,
   "metadata": {},
   "outputs": [
    {
     "data": {
      "text/plain": [
       "128800000"
      ]
     },
     "execution_count": 11,
     "metadata": {},
     "output_type": "execute_result"
    }
   ],
   "source": [
    "(X[0].size * X[0].itemsize)"
   ]
  },
  {
   "cell_type": "code",
   "execution_count": 12,
   "metadata": {},
   "outputs": [
    {
     "name": "stderr",
     "output_type": "stream",
     "text": [
      "199it [00:02, 87.32it/s] \n",
      "Process Process-3:\n",
      "Process Process-1:\n",
      "Process Process-2:\n",
      "Process Process-4:\n",
      "Traceback (most recent call last):\n",
      "Traceback (most recent call last):\n",
      "Traceback (most recent call last):\n",
      "Traceback (most recent call last):\n",
      "  File \"/home/user/anaconda3/lib/python3.7/multiprocessing/process.py\", line 297, in _bootstrap\n",
      "    self.run()\n",
      "  File \"/home/user/anaconda3/lib/python3.7/multiprocessing/process.py\", line 297, in _bootstrap\n",
      "    self.run()\n",
      "  File \"/home/user/anaconda3/lib/python3.7/multiprocessing/process.py\", line 297, in _bootstrap\n",
      "    self.run()\n",
      "  File \"/home/user/anaconda3/lib/python3.7/multiprocessing/process.py\", line 297, in _bootstrap\n",
      "    self.run()\n",
      "  File \"/home/user/anaconda3/lib/python3.7/multiprocessing/process.py\", line 99, in run\n",
      "    self._target(*self._args, **self._kwargs)\n",
      "  File \"/home/user/anaconda3/lib/python3.7/multiprocessing/process.py\", line 99, in run\n",
      "    self._target(*self._args, **self._kwargs)\n",
      "  File \"/home/user/anaconda3/lib/python3.7/multiprocessing/process.py\", line 99, in run\n",
      "    self._target(*self._args, **self._kwargs)\n",
      "  File \"/home/user/anaconda3/lib/python3.7/multiprocessing/process.py\", line 99, in run\n",
      "    self._target(*self._args, **self._kwargs)\n",
      "  File \"/home/user/Dropbox/projs/MorseNet/generate_wav_samples.py\", line 218, in do_work\n",
      "    time.sleep(0.0100)\n",
      "  File \"/home/user/Dropbox/projs/MorseNet/generate_wav_samples.py\", line 218, in do_work\n",
      "    time.sleep(0.0100)\n",
      "  File \"/home/user/Dropbox/projs/MorseNet/generate_wav_samples.py\", line 218, in do_work\n",
      "    time.sleep(0.0100)\n",
      "  File \"/home/user/Dropbox/projs/MorseNet/generate_wav_samples.py\", line 218, in do_work\n",
      "    time.sleep(0.0100)\n",
      "KeyboardInterrupt\n",
      "KeyboardInterrupt\n",
      "KeyboardInterrupt\n",
      "KeyboardInterrupt\n",
      "\n",
      "During handling of the above exception, another exception occurred:\n",
      "\n",
      "\n",
      "During handling of the above exception, another exception occurred:\n",
      "\n",
      "\n",
      "During handling of the above exception, another exception occurred:\n",
      "\n",
      "\n",
      "During handling of the above exception, another exception occurred:\n",
      "\n",
      "Traceback (most recent call last):\n",
      "Traceback (most recent call last):\n",
      "Traceback (most recent call last):\n",
      "  File \"/home/user/anaconda3/lib/python3.7/multiprocessing/process.py\", line 300, in _bootstrap\n",
      "    util._exit_function()\n",
      "Traceback (most recent call last):\n",
      "  File \"/home/user/anaconda3/lib/python3.7/multiprocessing/process.py\", line 300, in _bootstrap\n",
      "    util._exit_function()\n",
      "  File \"/home/user/anaconda3/lib/python3.7/multiprocessing/process.py\", line 300, in _bootstrap\n",
      "    util._exit_function()\n",
      "  File \"/home/user/anaconda3/lib/python3.7/multiprocessing/process.py\", line 300, in _bootstrap\n",
      "    util._exit_function()\n",
      "  File \"/home/user/anaconda3/lib/python3.7/multiprocessing/util.py\", line 325, in _exit_function\n",
      "    _run_finalizers()\n",
      "  File \"/home/user/anaconda3/lib/python3.7/multiprocessing/util.py\", line 325, in _exit_function\n",
      "    _run_finalizers()\n",
      "  File \"/home/user/anaconda3/lib/python3.7/multiprocessing/util.py\", line 325, in _exit_function\n",
      "    _run_finalizers()\n",
      "  File \"/home/user/anaconda3/lib/python3.7/multiprocessing/util.py\", line 325, in _exit_function\n",
      "    _run_finalizers()\n",
      "  File \"/home/user/anaconda3/lib/python3.7/multiprocessing/util.py\", line 265, in _run_finalizers\n",
      "    finalizer()\n",
      "  File \"/home/user/anaconda3/lib/python3.7/multiprocessing/util.py\", line 265, in _run_finalizers\n",
      "    finalizer()\n",
      "  File \"/home/user/anaconda3/lib/python3.7/multiprocessing/util.py\", line 265, in _run_finalizers\n",
      "    finalizer()\n",
      "  File \"/home/user/anaconda3/lib/python3.7/multiprocessing/util.py\", line 265, in _run_finalizers\n",
      "    finalizer()\n",
      "  File \"/home/user/anaconda3/lib/python3.7/multiprocessing/util.py\", line 189, in __call__\n",
      "    res = self._callback(*self._args, **self._kwargs)\n",
      "  File \"/home/user/anaconda3/lib/python3.7/multiprocessing/util.py\", line 189, in __call__\n",
      "    res = self._callback(*self._args, **self._kwargs)\n",
      "  File \"/home/user/anaconda3/lib/python3.7/multiprocessing/util.py\", line 189, in __call__\n",
      "    res = self._callback(*self._args, **self._kwargs)\n",
      "  File \"/home/user/anaconda3/lib/python3.7/multiprocessing/util.py\", line 189, in __call__\n",
      "    res = self._callback(*self._args, **self._kwargs)\n",
      "  File \"/home/user/anaconda3/lib/python3.7/multiprocessing/queues.py\", line 192, in _finalize_join\n",
      "    thread.join()\n",
      "  File \"/home/user/anaconda3/lib/python3.7/multiprocessing/queues.py\", line 192, in _finalize_join\n",
      "    thread.join()\n",
      "  File \"/home/user/anaconda3/lib/python3.7/multiprocessing/queues.py\", line 192, in _finalize_join\n",
      "    thread.join()\n",
      "  File \"/home/user/anaconda3/lib/python3.7/multiprocessing/queues.py\", line 192, in _finalize_join\n",
      "    thread.join()\n",
      "  File \"/home/user/anaconda3/lib/python3.7/threading.py\", line 1032, in join\n",
      "    self._wait_for_tstate_lock()\n",
      "  File \"/home/user/anaconda3/lib/python3.7/threading.py\", line 1032, in join\n",
      "    self._wait_for_tstate_lock()\n",
      "  File \"/home/user/anaconda3/lib/python3.7/threading.py\", line 1032, in join\n",
      "    self._wait_for_tstate_lock()\n",
      "  File \"/home/user/anaconda3/lib/python3.7/threading.py\", line 1032, in join\n",
      "    self._wait_for_tstate_lock()\n",
      "  File \"/home/user/anaconda3/lib/python3.7/threading.py\", line 1048, in _wait_for_tstate_lock\n",
      "    elif lock.acquire(block, timeout):\n",
      "  File \"/home/user/anaconda3/lib/python3.7/threading.py\", line 1048, in _wait_for_tstate_lock\n",
      "    elif lock.acquire(block, timeout):\n",
      "  File \"/home/user/anaconda3/lib/python3.7/threading.py\", line 1048, in _wait_for_tstate_lock\n",
      "    elif lock.acquire(block, timeout):\n",
      "KeyboardInterrupt\n",
      "  File \"/home/user/anaconda3/lib/python3.7/threading.py\", line 1048, in _wait_for_tstate_lock\n",
      "    elif lock.acquire(block, timeout):\n",
      "KeyboardInterrupt\n",
      "KeyboardInterrupt\n",
      "KeyboardInterrupt\n"
     ]
    }
   ],
   "source": [
    "X_val, l_val = read_data(200, g)"
   ]
  },
  {
   "cell_type": "code",
   "execution_count": 13,
   "metadata": {},
   "outputs": [],
   "source": [
    "conv_filters = 64\n",
    "kernel_size = 8\n",
    "pool_size = 16\n",
    "time_dense_size = 32\n",
    "rnn_size = 32\n",
    "minibatch_size = 32"
   ]
  },
  {
   "cell_type": "code",
   "execution_count": 20,
   "metadata": {},
   "outputs": [],
   "source": [
    "def get_model():\n",
    "    input_shape = (mel_len, mel_count)\n",
    "\n",
    "    act = 'relu'\n",
    "    input_data = Input(name='the_input', shape=input_shape, dtype='float32')\n",
    "    \n",
    "    prev = None\n",
    "    for i in range(5):\n",
    "\n",
    "        inner = Conv1D(conv_filters, kernel_size, padding='same', \n",
    "                       activation=act, kernel_initializer='he_normal',\n",
    "                       name=f'conv_{i}')(input_data if prev is None else prev)\n",
    "        mp = MaxPooling1D(pool_size=pool_size, name=f'max_{i}', strides=1, padding='same')(inner)\n",
    "        \n",
    "        prev = mp\n",
    "    \n",
    "    #gru2 = GRU(rnn_size, return_sequences=True, kernel_initializer='he_normal', name='gru2')(mp)\n",
    "    #gru = GRU(300, return_sequences=True, kernel_initializer='he_normal', name='gru1')(mp)\n",
    "    \n",
    "    srnn = SimpleRNN(32, return_sequences=True, kernel_initializer='he_normal',)(mp)\n",
    "    srnn2 = SimpleRNN(32, return_sequences=True, kernel_initializer='he_normal',)(srnn)\n",
    "    #srnn3 = SimpleRNN(32, return_sequences=True, kernel_initializer='he_normal',)(srnn2)\n",
    "    \n",
    "    \n",
    "    #lstm = LSTM(50, return_sequences=True, kernel_initializer='he_normal', name='lstm')(mp)\n",
    "    #lstm2 = LSTM(rnn_size, return_sequences=True, kernel_initializer='he_normal', name='lstm2')(lstm)\n",
    "    \n",
    "    #lstm2 = LSTM(rnn_size, return_sequences=True, kernel_initializer='he_normal', name='lstm2')(lstm)\n",
    "    #lstm3 = LSTM(rnn_size, return_sequences=True, kernel_initializer='he_normal', name='lstm3')(lstm2)\n",
    "\n",
    "    #dense2 = Dense(128, kernel_initializer='he_normal', name='dense2')(gru)\n",
    "\n",
    "    #dpo = Dropout(0.01, name='do1')(gru)\n",
    "    dense1 = Dense(dict_len, kernel_initializer='he_normal', name='dense1')(srnn)\n",
    "\n",
    "    y_pred = Activation('softmax', name='softmax')(dense1)\n",
    "\n",
    "    Model(inputs=input_data, outputs=y_pred).summary()\n",
    "\n",
    "    labels = Input(name='the_labels', shape=[max_seq_len], dtype='float32')\n",
    "    input_length = Input(name='input_length', shape=[1], dtype='int64')\n",
    "    label_length = Input(name='label_length', shape=[1], dtype='int64')\n",
    "\n",
    "    print(y_pred, labels, input_length, label_length)\n",
    "\n",
    "    loss_out = Lambda(\n",
    "        ctc_lambda_func, output_shape=(1,),\n",
    "        name='ctc')([y_pred, labels, input_length, label_length])\n",
    "\n",
    "    # clipnorm seems to speeds up convergence\n",
    "    model = Model(inputs=[input_data, labels, input_length, label_length], outputs=loss_out)\n",
    "\n",
    "    # the loss calc occurs elsewhere, so use a dummy lambda func for the loss\n",
    "    rms = RMSprop(lr=0.001)\n",
    "    sgd = SGD(lr=0.001, decay=1e-6, momentum=0.9, nesterov=True, clipnorm=5) #\n",
    "    model.compile(loss={'ctc': lambda y_true, y_pred: y_pred}, optimizer=rms)\n",
    "\n",
    "    test_func = K.function([input_data], [y_pred])\n",
    "    viz_cb = VizCallback('test', test_func, X_val)\n",
    "    \n",
    "    return model, viz_cb\n"
   ]
  },
  {
   "cell_type": "code",
   "execution_count": 21,
   "metadata": {},
   "outputs": [
    {
     "name": "stdout",
     "output_type": "stream",
     "text": [
      "_________________________________________________________________\n",
      "Layer (type)                 Output Shape              Param #   \n",
      "=================================================================\n",
      "the_input (InputLayer)       (None, 161, 1)            0         \n",
      "_________________________________________________________________\n",
      "conv_0 (Conv1D)              (None, 161, 64)           576       \n",
      "_________________________________________________________________\n",
      "max_0 (MaxPooling1D)         (None, 161, 64)           0         \n",
      "_________________________________________________________________\n",
      "conv_1 (Conv1D)              (None, 161, 64)           32832     \n",
      "_________________________________________________________________\n",
      "max_1 (MaxPooling1D)         (None, 161, 64)           0         \n",
      "_________________________________________________________________\n",
      "conv_2 (Conv1D)              (None, 161, 64)           32832     \n",
      "_________________________________________________________________\n",
      "max_2 (MaxPooling1D)         (None, 161, 64)           0         \n",
      "_________________________________________________________________\n",
      "conv_3 (Conv1D)              (None, 161, 64)           32832     \n",
      "_________________________________________________________________\n",
      "max_3 (MaxPooling1D)         (None, 161, 64)           0         \n",
      "_________________________________________________________________\n",
      "conv_4 (Conv1D)              (None, 161, 64)           32832     \n",
      "_________________________________________________________________\n",
      "max_4 (MaxPooling1D)         (None, 161, 64)           0         \n",
      "_________________________________________________________________\n",
      "simple_rnn_4 (SimpleRNN)     (None, 161, 32)           3104      \n",
      "_________________________________________________________________\n",
      "dense1 (Dense)               (None, 161, 12)           396       \n",
      "_________________________________________________________________\n",
      "softmax (Activation)         (None, 161, 12)           0         \n",
      "=================================================================\n",
      "Total params: 135,404\n",
      "Trainable params: 135,404\n",
      "Non-trainable params: 0\n",
      "_________________________________________________________________\n",
      "Tensor(\"softmax_1/truediv:0\", shape=(?, 161, 12), dtype=float32) Tensor(\"the_labels_1:0\", shape=(?, 5), dtype=float32) Tensor(\"input_length_1:0\", shape=(?, 1), dtype=int64) Tensor(\"label_length_1:0\", shape=(?, 1), dtype=int64)\n"
     ]
    }
   ],
   "source": [
    "model, viz_cb = get_model()"
   ]
  },
  {
   "cell_type": "code",
   "execution_count": 22,
   "metadata": {},
   "outputs": [
    {
     "data": {
      "text/plain": [
       "148"
      ]
     },
     "execution_count": 22,
     "metadata": {},
     "output_type": "execute_result"
    }
   ],
   "source": [
    "import gc\n",
    "gc.collect()"
   ]
  },
  {
   "cell_type": "code",
   "execution_count": 25,
   "metadata": {},
   "outputs": [
    {
     "name": "stdout",
     "output_type": "stream",
     "text": [
      "Train on 90000 samples, validate on 10000 samples\n",
      "Epoch 1/10\n",
      "90000/90000 [==============================] - 167s 2ms/step - loss: 5.2422 - val_loss: 3.0509\n",
      "edit distance:  256\n",
      "labels:  ['2', '5', '0', ' ', ' ']\n",
      "labels:  ['2', '3', ' ', '8', ' ']\n",
      "labels:  ['4', ' ', '4', ' ', ' ']\n",
      "labels:  ['0', ' ', ' ', ' ', ' ']\n",
      "labels:  ['8', '5', ' ', ' ', ' ']\n",
      "result lens:  5\n",
      "[' ']\n",
      "[' ', ' ']\n",
      "[' ', ' ']\n",
      "[' ']\n",
      "[' ']\n",
      "\n",
      "0.995\n",
      "Epoch 2/10\n",
      "90000/90000 [==============================] - 175s 2ms/step - loss: 2.0425 - val_loss: 1.1052\n",
      "edit distance:  256\n",
      "labels:  ['2', '5', '0', ' ', ' ']\n",
      "labels:  ['2', '3', ' ', '8', ' ']\n",
      "labels:  ['4', ' ', '4', ' ', ' ']\n",
      "labels:  ['0', ' ', ' ', ' ', ' ']\n",
      "labels:  ['8', '5', ' ', ' ', ' ']\n",
      "result lens:  5\n",
      "['2', '5', '0', ' ']\n",
      "['2', '3', ' ', '8', ' ']\n",
      "['4', ' ', '4', ' ']\n",
      "['0', ' ']\n",
      "['8', '5', ' ']\n",
      "\n",
      "0.05333333333333333\n",
      "Epoch 3/10\n",
      "90000/90000 [==============================] - 177s 2ms/step - loss: 0.9817 - val_loss: 0.8416\n",
      "edit distance:  256\n",
      "labels:  ['2', '5', '0', ' ', ' ']\n",
      "labels:  ['2', '3', ' ', '8', ' ']\n",
      "labels:  ['4', ' ', '4', ' ', ' ']\n",
      "labels:  ['0', ' ', ' ', ' ', ' ']\n",
      "labels:  ['8', '5', ' ', ' ', ' ']\n",
      "result lens:  5\n",
      "['2', '5', '0', ' ']\n",
      "['2', '3', ' ', '8', ' ']\n",
      "['4', ' ', '4', ' ']\n",
      "['0', ' ']\n",
      "['8', '5', ' ']\n",
      "\n",
      "0.01958333333333333\n",
      "Epoch 4/10\n",
      "90000/90000 [==============================] - 181s 2ms/step - loss: 0.9097 - val_loss: 0.7831\n",
      "edit distance:  256\n",
      "labels:  ['2', '5', '0', ' ', ' ']\n",
      "labels:  ['2', '3', ' ', '8', ' ']\n",
      "labels:  ['4', ' ', '4', ' ', ' ']\n",
      "labels:  ['0', ' ', ' ', ' ', ' ']\n",
      "labels:  ['8', '5', ' ', ' ', ' ']\n",
      "result lens:  5\n",
      "['2', '5', '0', ' ']\n",
      "['2', '3', ' ', '8', ' ']\n",
      "['4', ' ', '4', ' ']\n",
      "['0', ' ']\n",
      "['8', '5', ' ']\n",
      "\n",
      "0.01375\n",
      "Epoch 5/10\n",
      "90000/90000 [==============================] - 180s 2ms/step - loss: 0.8964 - val_loss: 0.7795\n",
      "edit distance:  256\n",
      "labels:  ['2', '5', '0', ' ', ' ']\n",
      "labels:  ['2', '3', ' ', '8', ' ']\n",
      "labels:  ['4', ' ', '4', ' ', ' ']\n",
      "labels:  ['0', ' ', ' ', ' ', ' ']\n",
      "labels:  ['8', '5', ' ', ' ', ' ']\n",
      "result lens:  5\n",
      "['2', '5', '0', ' ']\n",
      "['2', '3', ' ', '8', ' ']\n",
      "['4', ' ', '4', ' ']\n",
      "['0', ' ']\n",
      "['8', '5', ' ']\n",
      "\n",
      "0.01875\n",
      "Epoch 6/10\n",
      "90000/90000 [==============================] - 184s 2ms/step - loss: 0.9023 - val_loss: 0.9812\n",
      "edit distance:  256\n",
      "labels:  ['2', '5', '0', ' ', ' ']\n",
      "labels:  ['2', '3', ' ', '8', ' ']\n",
      "labels:  ['4', ' ', '4', ' ', ' ']\n",
      "labels:  ['0', ' ', ' ', ' ', ' ']\n",
      "labels:  ['8', '5', ' ', ' ', ' ']\n",
      "result lens:  5\n",
      "['2', '5', '0', ' ']\n",
      "['2', '3', ' ', '8', ' ']\n",
      "['4', ' ', '4', ' ']\n",
      "['0', ' ']\n",
      "['8', '5', ' ']\n",
      "\n",
      "0.049166666666666664\n",
      "Epoch 7/10\n",
      "90000/90000 [==============================] - 175s 2ms/step - loss: 0.9157 - val_loss: 0.8381\n",
      "edit distance:  256\n",
      "labels:  ['2', '5', '0', ' ', ' ']\n",
      "labels:  ['2', '3', ' ', '8', ' ']\n",
      "labels:  ['4', ' ', '4', ' ', ' ']\n",
      "labels:  ['0', ' ', ' ', ' ', ' ']\n",
      "labels:  ['8', '5', ' ', ' ', ' ']\n",
      "result lens:  5\n",
      "['2', '5', '0', ' ']\n",
      "['2', '3', ' ', '8', ' ']\n",
      "['4', ' ', '4', ' ']\n",
      "['0', ' ']\n",
      "['8', '5', ' ']\n",
      "\n",
      "0.018333333333333333\n",
      "Epoch 8/10\n",
      "90000/90000 [==============================] - 168s 2ms/step - loss: 0.9824 - val_loss: 1.2724\n",
      "edit distance:  256\n",
      "labels:  ['2', '5', '0', ' ', ' ']\n",
      "labels:  ['2', '3', ' ', '8', ' ']\n",
      "labels:  ['4', ' ', '4', ' ', ' ']\n",
      "labels:  ['0', ' ', ' ', ' ', ' ']\n",
      "labels:  ['8', '5', ' ', ' ', ' ']\n",
      "result lens:  5\n",
      "['2', '5', '0', ' ']\n",
      "['2', '3', ' ', '8', ' ']\n",
      "['4', ' ', '4', ' ']\n",
      "['0', ' ']\n",
      "['8', '5', ' ']\n",
      "\n",
      "0.03833333333333334\n",
      "Epoch 9/10\n",
      "60352/90000 [===================>..........] - ETA: 58s - loss: 0.9206"
     ]
    },
    {
     "ename": "KeyboardInterrupt",
     "evalue": "",
     "output_type": "error",
     "traceback": [
      "\u001b[0;31m---------------------------------------------------------------------------\u001b[0m",
      "\u001b[0;31mKeyboardInterrupt\u001b[0m                         Traceback (most recent call last)",
      "\u001b[0;32m<ipython-input-25-086113d40bcd>\u001b[0m in \u001b[0;36m<module>\u001b[0;34m\u001b[0m\n\u001b[0;32m----> 1\u001b[0;31m \u001b[0mmodel\u001b[0m\u001b[0;34m.\u001b[0m\u001b[0mfit\u001b[0m\u001b[0;34m(\u001b[0m\u001b[0mX\u001b[0m\u001b[0;34m,\u001b[0m \u001b[0ml\u001b[0m\u001b[0;34m,\u001b[0m \u001b[0mvalidation_split\u001b[0m\u001b[0;34m=\u001b[0m\u001b[0;36m0.1\u001b[0m\u001b[0;34m,\u001b[0m \u001b[0mbatch_size\u001b[0m\u001b[0;34m=\u001b[0m\u001b[0;36m64\u001b[0m\u001b[0;34m,\u001b[0m \u001b[0mcallbacks\u001b[0m\u001b[0;34m=\u001b[0m\u001b[0;34m[\u001b[0m\u001b[0mviz_cb\u001b[0m\u001b[0;34m]\u001b[0m\u001b[0;34m,\u001b[0m \u001b[0mepochs\u001b[0m\u001b[0;34m=\u001b[0m\u001b[0;36m10\u001b[0m\u001b[0;34m)\u001b[0m\u001b[0;34m\u001b[0m\u001b[0;34m\u001b[0m\u001b[0m\n\u001b[0m",
      "\u001b[0;32m~/anaconda3/lib/python3.7/site-packages/keras/engine/training.py\u001b[0m in \u001b[0;36mfit\u001b[0;34m(self, x, y, batch_size, epochs, verbose, callbacks, validation_split, validation_data, shuffle, class_weight, sample_weight, initial_epoch, steps_per_epoch, validation_steps, **kwargs)\u001b[0m\n\u001b[1;32m   1037\u001b[0m                                         \u001b[0minitial_epoch\u001b[0m\u001b[0;34m=\u001b[0m\u001b[0minitial_epoch\u001b[0m\u001b[0;34m,\u001b[0m\u001b[0;34m\u001b[0m\u001b[0;34m\u001b[0m\u001b[0m\n\u001b[1;32m   1038\u001b[0m                                         \u001b[0msteps_per_epoch\u001b[0m\u001b[0;34m=\u001b[0m\u001b[0msteps_per_epoch\u001b[0m\u001b[0;34m,\u001b[0m\u001b[0;34m\u001b[0m\u001b[0;34m\u001b[0m\u001b[0m\n\u001b[0;32m-> 1039\u001b[0;31m                                         validation_steps=validation_steps)\n\u001b[0m\u001b[1;32m   1040\u001b[0m \u001b[0;34m\u001b[0m\u001b[0m\n\u001b[1;32m   1041\u001b[0m     def evaluate(self, x=None, y=None,\n",
      "\u001b[0;32m~/anaconda3/lib/python3.7/site-packages/keras/engine/training_arrays.py\u001b[0m in \u001b[0;36mfit_loop\u001b[0;34m(model, f, ins, out_labels, batch_size, epochs, verbose, callbacks, val_f, val_ins, shuffle, callback_metrics, initial_epoch, steps_per_epoch, validation_steps)\u001b[0m\n\u001b[1;32m    197\u001b[0m                     \u001b[0mins_batch\u001b[0m\u001b[0;34m[\u001b[0m\u001b[0mi\u001b[0m\u001b[0;34m]\u001b[0m \u001b[0;34m=\u001b[0m \u001b[0mins_batch\u001b[0m\u001b[0;34m[\u001b[0m\u001b[0mi\u001b[0m\u001b[0;34m]\u001b[0m\u001b[0;34m.\u001b[0m\u001b[0mtoarray\u001b[0m\u001b[0;34m(\u001b[0m\u001b[0;34m)\u001b[0m\u001b[0;34m\u001b[0m\u001b[0;34m\u001b[0m\u001b[0m\n\u001b[1;32m    198\u001b[0m \u001b[0;34m\u001b[0m\u001b[0m\n\u001b[0;32m--> 199\u001b[0;31m                 \u001b[0mouts\u001b[0m \u001b[0;34m=\u001b[0m \u001b[0mf\u001b[0m\u001b[0;34m(\u001b[0m\u001b[0mins_batch\u001b[0m\u001b[0;34m)\u001b[0m\u001b[0;34m\u001b[0m\u001b[0;34m\u001b[0m\u001b[0m\n\u001b[0m\u001b[1;32m    200\u001b[0m                 \u001b[0mouts\u001b[0m \u001b[0;34m=\u001b[0m \u001b[0mto_list\u001b[0m\u001b[0;34m(\u001b[0m\u001b[0mouts\u001b[0m\u001b[0;34m)\u001b[0m\u001b[0;34m\u001b[0m\u001b[0;34m\u001b[0m\u001b[0m\n\u001b[1;32m    201\u001b[0m                 \u001b[0;32mfor\u001b[0m \u001b[0ml\u001b[0m\u001b[0;34m,\u001b[0m \u001b[0mo\u001b[0m \u001b[0;32min\u001b[0m \u001b[0mzip\u001b[0m\u001b[0;34m(\u001b[0m\u001b[0mout_labels\u001b[0m\u001b[0;34m,\u001b[0m \u001b[0mouts\u001b[0m\u001b[0;34m)\u001b[0m\u001b[0;34m:\u001b[0m\u001b[0;34m\u001b[0m\u001b[0;34m\u001b[0m\u001b[0m\n",
      "\u001b[0;32m~/anaconda3/lib/python3.7/site-packages/keras/backend/tensorflow_backend.py\u001b[0m in \u001b[0;36m__call__\u001b[0;34m(self, inputs)\u001b[0m\n\u001b[1;32m   2713\u001b[0m                 \u001b[0;32mreturn\u001b[0m \u001b[0mself\u001b[0m\u001b[0;34m.\u001b[0m\u001b[0m_legacy_call\u001b[0m\u001b[0;34m(\u001b[0m\u001b[0minputs\u001b[0m\u001b[0;34m)\u001b[0m\u001b[0;34m\u001b[0m\u001b[0;34m\u001b[0m\u001b[0m\n\u001b[1;32m   2714\u001b[0m \u001b[0;34m\u001b[0m\u001b[0m\n\u001b[0;32m-> 2715\u001b[0;31m             \u001b[0;32mreturn\u001b[0m \u001b[0mself\u001b[0m\u001b[0;34m.\u001b[0m\u001b[0m_call\u001b[0m\u001b[0;34m(\u001b[0m\u001b[0minputs\u001b[0m\u001b[0;34m)\u001b[0m\u001b[0;34m\u001b[0m\u001b[0;34m\u001b[0m\u001b[0m\n\u001b[0m\u001b[1;32m   2716\u001b[0m         \u001b[0;32melse\u001b[0m\u001b[0;34m:\u001b[0m\u001b[0;34m\u001b[0m\u001b[0;34m\u001b[0m\u001b[0m\n\u001b[1;32m   2717\u001b[0m             \u001b[0;32mif\u001b[0m \u001b[0mpy_any\u001b[0m\u001b[0;34m(\u001b[0m\u001b[0mis_tensor\u001b[0m\u001b[0;34m(\u001b[0m\u001b[0mx\u001b[0m\u001b[0;34m)\u001b[0m \u001b[0;32mfor\u001b[0m \u001b[0mx\u001b[0m \u001b[0;32min\u001b[0m \u001b[0minputs\u001b[0m\u001b[0;34m)\u001b[0m\u001b[0;34m:\u001b[0m\u001b[0;34m\u001b[0m\u001b[0;34m\u001b[0m\u001b[0m\n",
      "\u001b[0;32m~/anaconda3/lib/python3.7/site-packages/keras/backend/tensorflow_backend.py\u001b[0m in \u001b[0;36m_call\u001b[0;34m(self, inputs)\u001b[0m\n\u001b[1;32m   2673\u001b[0m             \u001b[0mfetched\u001b[0m \u001b[0;34m=\u001b[0m \u001b[0mself\u001b[0m\u001b[0;34m.\u001b[0m\u001b[0m_callable_fn\u001b[0m\u001b[0;34m(\u001b[0m\u001b[0;34m*\u001b[0m\u001b[0marray_vals\u001b[0m\u001b[0;34m,\u001b[0m \u001b[0mrun_metadata\u001b[0m\u001b[0;34m=\u001b[0m\u001b[0mself\u001b[0m\u001b[0;34m.\u001b[0m\u001b[0mrun_metadata\u001b[0m\u001b[0;34m)\u001b[0m\u001b[0;34m\u001b[0m\u001b[0;34m\u001b[0m\u001b[0m\n\u001b[1;32m   2674\u001b[0m         \u001b[0;32melse\u001b[0m\u001b[0;34m:\u001b[0m\u001b[0;34m\u001b[0m\u001b[0;34m\u001b[0m\u001b[0m\n\u001b[0;32m-> 2675\u001b[0;31m             \u001b[0mfetched\u001b[0m \u001b[0;34m=\u001b[0m \u001b[0mself\u001b[0m\u001b[0;34m.\u001b[0m\u001b[0m_callable_fn\u001b[0m\u001b[0;34m(\u001b[0m\u001b[0;34m*\u001b[0m\u001b[0marray_vals\u001b[0m\u001b[0;34m)\u001b[0m\u001b[0;34m\u001b[0m\u001b[0;34m\u001b[0m\u001b[0m\n\u001b[0m\u001b[1;32m   2676\u001b[0m         \u001b[0;32mreturn\u001b[0m \u001b[0mfetched\u001b[0m\u001b[0;34m[\u001b[0m\u001b[0;34m:\u001b[0m\u001b[0mlen\u001b[0m\u001b[0;34m(\u001b[0m\u001b[0mself\u001b[0m\u001b[0;34m.\u001b[0m\u001b[0moutputs\u001b[0m\u001b[0;34m)\u001b[0m\u001b[0;34m]\u001b[0m\u001b[0;34m\u001b[0m\u001b[0;34m\u001b[0m\u001b[0m\n\u001b[1;32m   2677\u001b[0m \u001b[0;34m\u001b[0m\u001b[0m\n",
      "\u001b[0;32m~/anaconda3/lib/python3.7/site-packages/tensorflow/python/client/session.py\u001b[0m in \u001b[0;36m__call__\u001b[0;34m(self, *args, **kwargs)\u001b[0m\n\u001b[1;32m   1456\u001b[0m         ret = tf_session.TF_SessionRunCallable(self._session._session,\n\u001b[1;32m   1457\u001b[0m                                                \u001b[0mself\u001b[0m\u001b[0;34m.\u001b[0m\u001b[0m_handle\u001b[0m\u001b[0;34m,\u001b[0m \u001b[0margs\u001b[0m\u001b[0;34m,\u001b[0m\u001b[0;34m\u001b[0m\u001b[0;34m\u001b[0m\u001b[0m\n\u001b[0;32m-> 1458\u001b[0;31m                                                run_metadata_ptr)\n\u001b[0m\u001b[1;32m   1459\u001b[0m         \u001b[0;32mif\u001b[0m \u001b[0mrun_metadata\u001b[0m\u001b[0;34m:\u001b[0m\u001b[0;34m\u001b[0m\u001b[0;34m\u001b[0m\u001b[0m\n\u001b[1;32m   1460\u001b[0m           \u001b[0mproto_data\u001b[0m \u001b[0;34m=\u001b[0m \u001b[0mtf_session\u001b[0m\u001b[0;34m.\u001b[0m\u001b[0mTF_GetBuffer\u001b[0m\u001b[0;34m(\u001b[0m\u001b[0mrun_metadata_ptr\u001b[0m\u001b[0;34m)\u001b[0m\u001b[0;34m\u001b[0m\u001b[0;34m\u001b[0m\u001b[0m\n",
      "\u001b[0;31mKeyboardInterrupt\u001b[0m: "
     ]
    }
   ],
   "source": [
    "model.fit(X, l, validation_split=0.1, batch_size=64, callbacks=[viz_cb], epochs=10)"
   ]
  },
  {
   "cell_type": "code",
   "execution_count": 12,
   "metadata": {},
   "outputs": [
    {
     "name": "stdout",
     "output_type": "stream",
     "text": [
      "WARNING:tensorflow:From /usr/local/lib/python3.6/dist-packages/tensorflow/python/framework/op_def_library.py:263: colocate_with (from tensorflow.python.framework.ops) is deprecated and will be removed in a future version.\n",
      "Instructions for updating:\n",
      "Colocations handled automatically by placer.\n",
      "_________________________________________________________________\n",
      "Layer (type)                 Output Shape              Param #   \n",
      "=================================================================\n",
      "the_input (InputLayer)       (None, 161, 1)            0         \n",
      "_________________________________________________________________\n",
      "conv1 (Conv1D)               (None, 161, 512)          16896     \n",
      "_________________________________________________________________\n",
      "max1 (MaxPooling1D)          (None, 161, 512)          0         \n",
      "_________________________________________________________________\n",
      "lstm (LSTM)                  (None, 161, 32)           69760     \n",
      "_________________________________________________________________\n",
      "dense1 (Dense)               (None, 161, 8)            264       \n",
      "_________________________________________________________________\n",
      "softmax (Activation)         (None, 161, 8)            0         \n",
      "=================================================================\n",
      "Total params: 86,920\n",
      "Trainable params: 86,920\n",
      "Non-trainable params: 0\n",
      "_________________________________________________________________\n",
      "Tensor(\"softmax/truediv:0\", shape=(?, 161, 8), dtype=float32) Tensor(\"the_labels:0\", shape=(?, 5), dtype=float32) Tensor(\"input_length:0\", shape=(?, 1), dtype=int64) Tensor(\"label_length:0\", shape=(?, 1), dtype=int64)\n",
      "WARNING:tensorflow:From /usr/local/lib/python3.6/dist-packages/keras/backend/tensorflow_backend.py:4249: to_int32 (from tensorflow.python.ops.math_ops) is deprecated and will be removed in a future version.\n",
      "Instructions for updating:\n",
      "Use tf.cast instead.\n",
      "WARNING:tensorflow:From /usr/local/lib/python3.6/dist-packages/keras/backend/tensorflow_backend.py:4229: to_int64 (from tensorflow.python.ops.math_ops) is deprecated and will be removed in a future version.\n",
      "Instructions for updating:\n",
      "Use tf.cast instead.\n"
     ]
    }
   ],
   "source": [
    "best_model, viz_cb = get_model()\n",
    "best_model.load_weights('rnn_output/test/weights99.h5')"
   ]
  },
  {
   "cell_type": "code",
   "execution_count": 32,
   "metadata": {},
   "outputs": [],
   "source": [
    "get_all_layer_outputs = K.function([best_model.layers[0].input],\n",
    "                                  [l.output for l in best_model.layers[1:] if l.name == 'softmax'])\n"
   ]
  },
  {
   "cell_type": "code",
   "execution_count": 33,
   "metadata": {},
   "outputs": [
    {
     "data": {
      "text/plain": [
       "[['7', '7', ' '],\n",
       " ['B', 'Y', ' '],\n",
       " ['R', 'L', 'V', '7', ' '],\n",
       " ['Z', ' ', 'U', 'C', ' '],\n",
       " ['E', 'A', '1', ' '],\n",
       " ['K', ' ', 'B', 'L', ' '],\n",
       " ['W', '5', 'B', 'S', 'S', 'S', ' '],\n",
       " ['7', ' '],\n",
       " ['I', 'I', 'M', '9', ' '],\n",
       " ['X', 'B', 'U', 'U', 'U', ' ']]"
      ]
     },
     "execution_count": 33,
     "metadata": {},
     "output_type": "execute_result"
    }
   ],
   "source": [
    "decoded = decode_batch(get_all_layer_outputs, X_val[0])\n",
    "decoded[:10]"
   ]
  },
  {
   "cell_type": "code",
   "execution_count": 24,
   "metadata": {},
   "outputs": [
    {
     "name": "stdout",
     "output_type": "stream",
     "text": [
      "['6', '2', ' ', ' ', ' ', ' ']\n",
      "['B', 'P', 'Y', 'C', ' ', ' ']\n",
      "['R', 'L', 'V', '7', ' ', ' ']\n",
      "['Z', ' ', 'U', 'C', ' ', ' ']\n",
      "['D', 'E', 'J', '1', ' ', ' ']\n",
      "['K', ' ', 'B', ' ', 'L', ' ']\n",
      "['0', 'W', 'B', 'S', 'S', ' ']\n",
      "['7', '3', 'C', '6', ' ', ' ']\n",
      "['I', 'T', 'M', 'S', '9', ' ']\n",
      "['X', 'B', 'U', 'M', 'U', ' ']\n"
     ]
    }
   ],
   "source": [
    "for i in l_val[:10]:\n",
    "    print(labels_to_text(i))"
   ]
  },
  {
   "cell_type": "code",
   "execution_count": 34,
   "metadata": {},
   "outputs": [
    {
     "name": "stdout",
     "output_type": "stream",
     "text": [
      "0.393275\n"
     ]
    }
   ],
   "source": [
    "cers = []\n",
    "for i, t in enumerate(l_val):\n",
    "    true = labels_to_text(t)\n",
    "    pred = decoded[i]\n",
    "    \n",
    "    c = cer(true, pred)\n",
    "    \n",
    "    cers.append(c)\n",
    "    \n",
    "print(np.mean(cers))"
   ]
  },
  {
   "cell_type": "code",
   "execution_count": 1,
   "metadata": {},
   "outputs": [
    {
     "ename": "NameError",
     "evalue": "name 'librosa' is not defined",
     "output_type": "error",
     "traceback": [
      "\u001b[0;31m---------------------------------------------------------------------------\u001b[0m",
      "\u001b[0;31mNameError\u001b[0m                                 Traceback (most recent call last)",
      "\u001b[0;32m<ipython-input-1-f8f89ed88188>\u001b[0m in \u001b[0;36m<module>\u001b[0;34m\u001b[0m\n\u001b[1;32m      1\u001b[0m \u001b[0;34m'/home/user/Downloads/websdr_recording_start_2019-06-15T21_33_16Z_7017.3kHz.wav'\u001b[0m\u001b[0;34m\u001b[0m\u001b[0;34m\u001b[0m\u001b[0m\n\u001b[1;32m      2\u001b[0m \u001b[0;34m\u001b[0m\u001b[0m\n\u001b[0;32m----> 3\u001b[0;31m \u001b[0mwave\u001b[0m\u001b[0;34m,\u001b[0m \u001b[0msr\u001b[0m \u001b[0;34m=\u001b[0m \u001b[0mlibrosa\u001b[0m\u001b[0;34m.\u001b[0m\u001b[0mcore\u001b[0m\u001b[0;34m.\u001b[0m\u001b[0mload\u001b[0m\u001b[0;34m(\u001b[0m\u001b[0;34m'/home/user/Dropbox/projs/MorseNet/generated/0.wav'\u001b[0m\u001b[0;34m,\u001b[0m \u001b[0msr\u001b[0m\u001b[0;34m=\u001b[0m\u001b[0;36m8000\u001b[0m\u001b[0;34m)\u001b[0m\u001b[0;34m\u001b[0m\u001b[0;34m\u001b[0m\u001b[0m\n\u001b[0m\u001b[1;32m      4\u001b[0m \u001b[0mwave\u001b[0m \u001b[0;34m=\u001b[0m \u001b[0mwave\u001b[0m\u001b[0;34m[\u001b[0m\u001b[0;34m:\u001b[0m\u001b[0;36m39936\u001b[0m\u001b[0;34m]\u001b[0m\u001b[0;34m\u001b[0m\u001b[0;34m\u001b[0m\u001b[0m\n\u001b[1;32m      5\u001b[0m \u001b[0mmel\u001b[0m \u001b[0;34m=\u001b[0m \u001b[0mget_wave_mel_features\u001b[0m\u001b[0;34m(\u001b[0m\u001b[0mwave\u001b[0m\u001b[0;34m)\u001b[0m\u001b[0;34m\u001b[0m\u001b[0;34m\u001b[0m\u001b[0m\n",
      "\u001b[0;31mNameError\u001b[0m: name 'librosa' is not defined"
     ]
    }
   ],
   "source": [
    "'/home/user/Downloads/websdr_recording_start_2019-06-15T21_33_16Z_7017.3kHz.wav'\n",
    "\n",
    "wave, sr = librosa.core.load('/home/user/Dropbox/projs/MorseNet/generated/0.wav', sr=8000)\n",
    "wave = wave[:39936]\n",
    "mel = get_wave_mel_features(wave)\n",
    "\n",
    "\n",
    "to_pred = np.zeros([1,  mel_len, mel_count])\n",
    "to_pred[0,:,:] = mel\n",
    "\n",
    "print(decode_batch(get_all_layer_outputs, to_pred))\n"
   ]
  },
  {
   "cell_type": "code",
   "execution_count": 37,
   "metadata": {},
   "outputs": [
    {
     "data": {
      "image/png": "[encoded data removed]",
      "text/plain": [
       "<Figure size 432x288 with 1 Axes>"
      ]
     },
     "metadata": {},
     "output_type": "display_data"
    }
   ],
   "source": [
    "librosa.display.specshow(mel.T)\n",
    "plt.show()\n",
    "#raise Exception"
   ]
  },
  {
   "cell_type": "code",
   "execution_count": 35,
   "metadata": {},
   "outputs": [
    {
     "name": "stdout",
     "output_type": "stream",
     "text": [
      "[[' ', 'A', 'F', 'E']]\n"
     ]
    },
    {
     "data": {
      "image/png": "[encoded data removed]",
      "text/plain": [
       "<Figure size 432x288 with 1 Axes>"
      ]
     },
     "metadata": {},
     "output_type": "display_data"
    }
   ],
   "source": [
    "wave, sr = librosa.core.load('/home/user/Downloads/websdr_recording_start_2019-06-15T21_33_16Z_7017.3kHz.wav', sr=8000)\n",
    "wave = wave[:39936]\n",
    "mel = get_wave_mel_features(wave)\n",
    "\n",
    "to_pred = np.zeros([1,  mel_len, mel_count])\n",
    "to_pred[0,:,:] = mel\n",
    "\n",
    "print(decode_batch(get_all_layer_outputs, to_pred))\n",
    "\n",
    "librosa.display.specshow(mel.T)\n",
    "plt.show()"
   ]
  },
  {
   "cell_type": "code",
   "execution_count": 23,
   "metadata": {},
   "outputs": [
    {
     "data": {
      "image/png": "[encoded data removed]",
      "text/plain": [
       "<Figure size 432x288 with 1 Axes>"
      ]
     },
     "metadata": {},
     "output_type": "display_data"
    }
   ],
   "source": [
    "wave, sr = librosa.core.load('/home/user/Dropbox/projs/MorseNet/generated/0.wav', sr=8000)\n",
    "wave = wave[:39936]\n",
    "mel = get_wave_mel_features(wave)\n",
    "\n",
    "to_pred = np.zeros([1,  mel_len, mel_count])\n",
    "to_pred[0,:,:] = mel\n",
    "\n",
    "#print(decode_batch(get_all_layer_outputs, to_pred))\n",
    "\n",
    "librosa.display.specshow(mel.T)\n",
    "plt.show()"
   ]
  },
  {
   "cell_type": "code",
   "execution_count": null,
   "metadata": {},
   "outputs": [],
   "source": []
  }
 ],
 "metadata": {
  "kernelspec": {
   "display_name": "Python 3",
   "language": "python",
   "name": "python3"
  },
  "language_info": {
   "codemirror_mode": {
    "name": "ipython",
    "version": 3
   },
   "file_extension": ".py",
   "mimetype": "text/x-python",
   "name": "python",
   "nbconvert_exporter": "python",
   "pygments_lexer": "ipython3",
   "version": "3.7.3"
  }
 },
 "nbformat": 4,
 "nbformat_minor": 2
}
